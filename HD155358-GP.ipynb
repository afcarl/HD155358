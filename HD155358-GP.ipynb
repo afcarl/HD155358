{
 "cells": [
  {
   "cell_type": "markdown",
   "metadata": {},
   "source": [
    "# HD 155358-GP\n",
    "This notebook uses a Gaussian Process instead of a Stellar Jitter term for the analysis"
   ]
  },
  {
   "cell_type": "code",
   "execution_count": null,
   "metadata": {
    "collapsed": true
   },
   "outputs": [],
   "source": [
    "import pandas as pd\n",
    "import numpy as np\n",
    "import rebound\n",
    "import emcee\n",
    "import multiprocessing\n",
    "import george\n",
    "from george import kernels\n",
    "\n",
    "import corner\n",
    "import matplotlib.pyplot as plt\n",
    "%matplotlib inline"
   ]
  },
  {
   "cell_type": "code",
   "execution_count": null,
   "metadata": {
    "collapsed": true
   },
   "outputs": [],
   "source": [
    "data = pd.read_csv(\"RV.txt\", delimiter=' ')"
   ]
  },
  {
   "cell_type": "code",
   "execution_count": null,
   "metadata": {
    "collapsed": false
   },
   "outputs": [],
   "source": [
    "#Don't want to move to COM, want to see relative to the background. \n",
    "def fit_RV(times,theta,pp_interaction=1):\n",
    "    m1sini,m2sini,a1,a2,h1,h2,k1,k2,lambda1,lambda2,sini = theta\n",
    "    AUyr2ms = 29682.77                   #AU/(yr/2pi) -> m/s\n",
    "    dtoyr2pi = 2*np.pi/365.              #days -> yr/2pi\n",
    "    mJ = 9.543e-4                        #Jupiter mass -> solar mass\n",
    "    v = np.empty(0)    \n",
    "    sim = rebound.Simulation()\n",
    "    sim.integrator = \"whfast\"\n",
    "    sim.add(m=0.92)                      #add the star\n",
    "    if pp_interaction == 0:\n",
    "        sim.testparticle_type = 1 \n",
    "        sim.N_active = sim.N \n",
    "    sim.add(m=m1sini*mJ/sini,a=a1,l=lambda1,h=h1,k=k1) \n",
    "    sim.add(m=m2sini*mJ/sini,a=a2,l=lambda2,h=h2,k=k2) \n",
    "    sim.dt = 2*np.pi* a1**(1.5) / 25.    #dt = 25 steps per orb per of inner planet\n",
    "    sim.move_to_com()\n",
    "    for t in times*dtoyr2pi:\n",
    "        sim.integrate(t)\n",
    "        v = np.append(v,-AUyr2ms*sim.particles[0].vy*sini)\n",
    "        #v = np.append(v,AUyr2ms*(sim.particles[0].vx*np.sin(phi) + sim.particles[0].vy*np.cos(phi))*sini) #coordinate transf from (x,y,z)->(x',y',z'), take y' component\n",
    "    return v "
   ]
  },
  {
   "cell_type": "markdown",
   "metadata": {},
   "source": [
    "### GP Chicken Scratch"
   ]
  },
  {
   "cell_type": "code",
   "execution_count": null,
   "metadata": {
    "collapsed": false
   },
   "outputs": [],
   "source": [
    "#chicken scratch plot which shows the covariance matrix as a function of A and L. \n",
    "a,l=1,1e8\n",
    "t = data[\"BJD\"] - data[\"BJD\"].iloc[0]\n",
    "my_gp = george.GP(a * kernels.ExpSquaredKernel(l) )\n",
    "my_gp.compute(data[\"RV\"].values, data[\"Unc\"].values)  # matrix needs to know the times and values of the diagonal elements\n",
    "# Plotting\n",
    "tm = np.linspace(t.min(),t.max(),1e2) - t.min()\n",
    "plt.pcolormesh(tm, tm, my_gp.get_matrix(tm), cmap=plt.get_cmap('Greys'))\n",
    "plt.colorbar(), plt.axes().set_aspect('equal'), plt.gca().invert_yaxis(), plt.show()"
   ]
  },
  {
   "cell_type": "markdown",
   "metadata": {},
   "source": [
    "### emcee"
   ]
  },
  {
   "cell_type": "code",
   "execution_count": null,
   "metadata": {
    "collapsed": true
   },
   "outputs": [],
   "source": [
    "#arguments\n",
    "semiperiodicGP = 0                        #1=semi-periodic GP, 0=purely exponential GP\n",
    "pp_interaction = 1                        #1=planet-planet interaction, 0=ignore planet-planet interaction"
   ]
  },
  {
   "cell_type": "code",
   "execution_count": null,
   "metadata": {
    "collapsed": false
   },
   "outputs": [],
   "source": [
    "if semiperiodicGP == 1:                   #exponential * sinusoidal term, following Damasso et al. (2016)\n",
    "    def lnlikeGP(theta_GP, times, y, yerr, pp_interaction):\n",
    "        theta, offset = theta_GP[:11], theta_GP[11]\n",
    "        A, L, G, P = theta_GP[12:] \n",
    "        gp = george.GP(A*A * (kernels.ExpSquaredKernel(np.exp(L)) * kernels.ExpSine2Kernel(G, np.exp(P))))\n",
    "        gp.compute(times, yerr)\n",
    "        model = fit_RV(times, theta, pp_interaction) + offset\n",
    "        return gp.lnlikelihood(y - model)\n",
    "\n",
    "    def lnpriorGP(theta_GP):\n",
    "        m1sini,m2sini,a1,a2,h1,h2,k1,k2,lambda1,lambda2,sini,offset,A,lnL,G,lnP = theta_GP\n",
    "        if 0.4<m1sini<2 and 0.4<m2sini<2 and 0.2<a1<0.8 and 0.8<a2<1.4 and 0<=h1**2 + k1**2<1. and 0<=h2**2 + k2**2<1. and -1<h1<1 and -1<h2<1 and -1<k1<1 and -1<k2<1 and 0.<=lambda1<=2*np.pi and 0.<=lambda2<=2*np.pi and 0.05<=sini<=1. and -40<offset<40 and 0<A<10 and -3<lnL<7 and 0<G<100 and 0<lnP<4:\n",
    "            return 0   \n",
    "        return -np.inf     \n",
    "else:                                     #exponential only\n",
    "    def lnlikeGP(theta_GP, times, y, yerr, pp_interaction):\n",
    "        theta, offset = theta_GP[:11], theta_GP[11]\n",
    "        A, L = theta_GP[12:]\n",
    "        gp = george.GP(A*A*kernels.ExpSquaredKernel(L) )\n",
    "        gp.compute(times, yerr)\n",
    "        model = fit_RV(times, theta, pp_interaction) + offset\n",
    "        return gp.lnlikelihood(y - model)\n",
    "\n",
    "    def lnpriorGP(theta_GP):\n",
    "        m1sini,m2sini,a1,a2,h1,h2,k1,k2,lambda1,lambda2,sini,offset,A,lnL = theta_GP\n",
    "        if 0.4<m1sini<2 and 0.4<m2sini<2 and 0.2<a1<0.8 and 0.8<a2<1.4 and 0<=h1**2 + k1**2<1. and 0<=h2**2 + k2**2<1. and -1<h1<1 and -1<h2<1 and -1<k1<1 and -1<k2<1 and 0.<=lambda1<=2*np.pi and 0.<=lambda2<=2*np.pi and 0.05<=sini<=1. and -40<offset<40 and 0<A<10 and -3<lnL<7:\n",
    "            return 0   \n",
    "        return -np.inf \n",
    "    \n",
    "def lnprobGP(theta_j, times, y, yerr, pp_interaction):\n",
    "    lnp = lnpriorGP(theta_j)\n",
    "    if not np.isfinite(lnp):\n",
    "        return -np.inf\n",
    "    return lnp + lnlikeGP(theta_j, times, y, yerr, pp_interaction)"
   ]
  },
  {
   "cell_type": "code",
   "execution_count": null,
   "metadata": {
    "collapsed": false
   },
   "outputs": [],
   "source": [
    "#initialize parameters\n",
    "times = data[\"BJD\"] - data[\"BJD\"].iloc[0] #BJD (days)\n",
    "m1sini,m2sini = 0.929,0.841               #Jupiter masses, default 0.85,0.82\n",
    "a1,a2 = 0.643,1.017                       #AU, default: 0.64, 1.02\n",
    "h1,h2 = 0.0366,-0.067                     \n",
    "k1,k2 = -0.167,0.078                      \n",
    "lambda1,lambda2 = 4.96,1.15               #in radians, default: 129, 233\n",
    "sini = 0.9                                #inclination angle (0-1)\n",
    "offset = 4                                #RV offset to account for forward/back motion of star (m/s)\n",
    "if semiperiodicGP == 1:\n",
    "    A, lnL, G, lnP = 1, 1, 0.5, 1         #See Damasso and/or George docs for meanings\n",
    "    theta_ini = [m1sini,m2sini,a1,a2,h1,h2,k1,k2,lambda1,lambda2,sini,offset,A,lnL,G,lnP]\n",
    "else:\n",
    "    A, lnL = 1, 1                         #See Damasso and/or George docs for meanings\n",
    "    theta_ini = [m1sini,m2sini,a1,a2,h1,h2,k1,k2,lambda1,lambda2,sini,offset,A,lnL]\n",
    "\n",
    "ndim, nwalkers, n_it, n_checkpoints = len(theta_ini), 300, 10000, 10"
   ]
  },
  {
   "cell_type": "markdown",
   "metadata": {},
   "source": [
    "Run the MCMC. **Warning**. This could take a while."
   ]
  },
  {
   "cell_type": "code",
   "execution_count": null,
   "metadata": {
    "collapsed": false
   },
   "outputs": [],
   "source": [
    "filename = \"hkGP\"\n",
    "if semiperiodicGP == 1: #semi-periodic GP (vs. pure exponential)\n",
    "    filename += \"SP\"\n",
    "if pp_interaction == 0: #semi-active bodies \n",
    "    filename += \"SA\"\n",
    "filename += \"_%dwalk_%dit\"%(nwalkers,n_it)\n",
    "\n",
    "p0 = [theta_ini + 1e-4*np.random.randn(ndim) for i in range(nwalkers)]\n",
    "sampler = emcee.EnsembleSampler(nwalkers, ndim, lnprobGP, args=(times, data[\"RV\"].values, data[\"Unc\"].values, pp_interaction));\n",
    "\n",
    "print(\"Running burn-in...\")\n",
    "pos, _, _ = sampler.run_mcmc(p0, 200)\n",
    "np.save(filename+\"_burnin.npy\",sampler.chain)\n",
    "sampler.reset()\n",
    "\n",
    "print(\"Running production...\")\n",
    "for i in range(n_checkpoints):\n",
    "    pos, _, _ = sampler.run_mcmc(pos, n_it/n_checkpoints);\n",
    "    np.save(filename+\"_chkpt%d.npy\"%i,sampler.chain)"
   ]
  },
  {
   "cell_type": "markdown",
   "metadata": {},
   "source": [
    "# Load and analyze data"
   ]
  },
  {
   "cell_type": "code",
   "execution_count": null,
   "metadata": {
    "collapsed": false
   },
   "outputs": [],
   "source": [
    "#Corner plot\n",
    "burnin = 0\n",
    "\n",
    "#filename=\"emcee_chains/hkGP_120walk_2400it_chkpt3\"\n",
    "filename=\"emcee_chains/hksemi-activeGP_120walk_2400it_chkpt3\"\n",
    "\n",
    "samples = np.load(filename+\".npy\")[:, burnin:, :].reshape((-1, ndim))"
   ]
  },
  {
   "cell_type": "code",
   "execution_count": null,
   "metadata": {
    "collapsed": false
   },
   "outputs": [],
   "source": [
    "fig = corner.corner(samples, labels=[\"$m_1sini$\",\"$m_2sini$\",\"$a_1$\",\"$a_2$\",\"$h_1$\",\"$h_2$\",\"$k_1$\",\"$k_2$\",\"$\\lambda_1$\",\"$\\lambda_2$\",\"$sini$\",\"offset\",\"A\",\"L\"])\n",
    "fig.savefig(filename+\"_corner.png\")"
   ]
  },
  {
   "cell_type": "markdown",
   "metadata": {},
   "source": [
    "### Get/Plot MAP"
   ]
  },
  {
   "cell_type": "code",
   "execution_count": null,
   "metadata": {
    "collapsed": false
   },
   "outputs": [],
   "source": [
    "#Better way to do this? This result could depend on the binning. \n",
    "labels=[\"m1sini\",\"m2sini\",\"a1\",\"a2\",\"h1\",\"h2\",\"k1\",\"k2\",\"lambd1\",\"lambd2\",\"sini\",\"offset\",\"A\",\"L\"]\n",
    "MAP = []\n",
    "MAP_ = map(lambda v: (v[1], v[2]-v[1], v[1]-v[0]),zip(*np.percentile(samples, [16, 50, 84],axis=0)))\n",
    "print \"parameter \\t MAP \\t\\t upper \\t\\t lower\"\n",
    "for i in range(ndim):\n",
    "    print \"%s \\t\\t %.5f \\t %.5f \\t %.5f\"%(labels[i],MAP_[i][0],MAP_[i][1],MAP_[i][2])\n",
    "    MAP.append(MAP_[i][0])"
   ]
  },
  {
   "cell_type": "code",
   "execution_count": null,
   "metadata": {
    "collapsed": false
   },
   "outputs": [],
   "source": [
    "#plotting stuff\n",
    "from matplotlib import gridspec\n",
    "fontsize=13\n",
    "fig = plt.figure(figsize=(20, 12))\n",
    "gs = gridspec.GridSpec(3, 1, height_ratios=[2, 1, 1])\n",
    "axes = [plt.subplot(gs[0]),plt.subplot(gs[1]),plt.subplot(gs[2])]\n",
    "plt.subplots_adjust(hspace = 0.25)\n",
    "axes[0].set_ylabel(\"RV (m/s)\",fontsize=fontsize)\n",
    "axes[0].set_xlabel(\"BJD - 2450000\",fontsize=fontsize)\n",
    "axes[1].set_ylabel(\"MAP Residuals (m/s)\",fontsize=fontsize)\n",
    "axes[1].set_xlabel(\"BJD - 2450000\",fontsize=fontsize)\n",
    "axes[2].set_ylabel(\"counts\",fontsize=fontsize)\n",
    "axes[2].set_xlabel(\"Histogram: MAP Residuals (m/s)\",fontsize=fontsize)\n",
    "\n",
    "#samples from posterior\n",
    "t0 = data[\"BJD\"].iloc[0]\n",
    "tt = np.linspace(t0,max(data[\"BJD\"]),300)\n",
    "for theta in samples[np.random.randint(len(samples), size=100)]:\n",
    "    sampleRV = fit_RV(tt-t0,theta[:11],pp_interaction) + theta[11]\n",
    "    axes[0].plot(tt,sampleRV,color=\"k\", alpha=0.1)\n",
    "axes[0].plot(tt,sampleRV,color=\"k\", label='posterior samples')\n",
    "\n",
    "#MAP\n",
    "RV = fit_RV(tt-t0,MAP[:11]) + theta[11]\n",
    "Residuals = data[\"RV\"] - (fit_RV(data[\"BJD\"] - data[\"BJD\"].iloc[0],MAP[:11]) + theta[11])\n",
    "axes[0].plot(tt,RV, color='green',linewidth=3, label='MAP')\n",
    "axes[0].errorbar(data[\"BJD\"],data[\"RV\"], yerr=data[\"Unc\"], fmt='o', color='blue', label='data')\n",
    "axes[1].plot(data[\"BJD\"],Residuals, 'o', color='green')\n",
    "axes[2].hist(Residuals, 18, facecolor='green', alpha=0.75);\n",
    "\n",
    "#save\n",
    "axes[0].legend(loc=\"upper left\",fontsize=9,numpoints=1)\n",
    "plt.savefig(filename+\"_MAP_RV.png\")"
   ]
  },
  {
   "cell_type": "code",
   "execution_count": null,
   "metadata": {
    "collapsed": false,
    "scrolled": false
   },
   "outputs": [],
   "source": [
    "parameter = 5\n",
    "labels=[\"m1sini\",\"m2sini\",\"a1\",\"a2\",\"h1\",\"h2\",\"k1\",\"k2\",\"lambda1\",\"lambda2\",\"sini\",\"offset\",\"A\",\"L\"]\n",
    "plt.plot(samples[:,parameter], '.', alpha=0.05, color='black')\n",
    "plt.ylabel(labels[parameter])\n",
    "plt.xlabel(\"samples\")"
   ]
  },
  {
   "cell_type": "markdown",
   "metadata": {
    "collapsed": false
   },
   "source": [
    "## Determine if system is in resonance."
   ]
  },
  {
   "cell_type": "code",
   "execution_count": null,
   "metadata": {
    "collapsed": true
   },
   "outputs": [],
   "source": [
    "def res_arg(sim):\n",
    "    o1 = sim.particles[1].calculate_orbit(sim.particles[0])\n",
    "    o2 = sim.particles[2].calculate_orbit(sim.particles[0])\n",
    "    phi = 2.*o2.l - o1.l - o1.pomega\n",
    "    phi2 = 2.*o2.l - o1.l - o2.pomega\n",
    "    phi3 = o1.pomega - o2.pomega\n",
    "    while(phi >= 2*np.pi):\n",
    "        phi -= 2*np.pi\n",
    "    while(phi < 0.):\n",
    "        phi += 2*np.pi\n",
    "    while(phi2 >= 2*np.pi):\n",
    "        phi2 -= 2*np.pi\n",
    "    while(phi2 < 0.):\n",
    "        phi2 += 2*np.pi\n",
    "    while(phi3 >= 2*np.pi):\n",
    "        phi3 -= 2*np.pi\n",
    "    while(phi3 < 0.):\n",
    "        phi3 += 2*np.pi\n",
    "    return phi, phi2, phi3\n",
    "\n",
    "def check_resonance(theta,tmax,Npts):\n",
    "    m1sini,m2sini,a1,a2,h1,h2,k1,k2,lambda1,lambda2,sini = theta\n",
    "    AUyr2ms = 29682.77                   #AU/(yr/2pi) -> m/s\n",
    "    dtoyr2pi = 2*np.pi/365.              #days -> yr/2pi\n",
    "    mJ = 9.543e-4                        #Jupiter mass -> solar mass\n",
    "    phi, phi2, phi3 = [], [], []\n",
    "    \n",
    "    sim = rebound.Simulation()\n",
    "    sim.integrator = \"whfast\"\n",
    "    sim.add(m=0.92)                      #add the star\n",
    "    sim.dt = 2*np.pi* a1**(1.5) / 25.    #dt = 50 steps per orb per of inner planet\n",
    "    sim.add(m=m1sini*mJ/sini,a=a1,l=lambda1,h=h1,k=k1) \n",
    "    sim.add(m=m2sini*mJ/sini,a=a2,l=lambda2,h=h2,k=k2)  \n",
    "    sim.move_to_com()\n",
    "    for t in np.linspace(0,tmax,Npts):\n",
    "        sim.integrate(t)\n",
    "        p1,p2,p3 = res_arg(sim)\n",
    "        phi.append(p1), phi2.append(p2), phi3.append(p3)\n",
    "    return phi, phi2, phi3"
   ]
  },
  {
   "cell_type": "code",
   "execution_count": null,
   "metadata": {
    "collapsed": false
   },
   "outputs": [],
   "source": [
    "from matplotlib import gridspec\n",
    "fontsize=13\n",
    "\n",
    "#draw samples and see if system is in resonance\n",
    "tmax = 1000\n",
    "Npts = 500\n",
    "Ndraws = 20\n",
    "phi = []\n",
    "phi2 = []\n",
    "phi3 = []\n",
    "for theta in samples[np.random.randint(len(samples), size=Ndraws)]:\n",
    "    p1, p2, p3 = check_resonance(theta[:-1],tmax,Npts)\n",
    "    phi = phi + p1\n",
    "    phi2 = phi2 + p2\n",
    "    phi3 = phi3 + p3\n",
    "\n",
    "#plot\n",
    "bins = 50\n",
    "fig = plt.figure(figsize=(10, 8))\n",
    "gs = gridspec.GridSpec(3, 1, height_ratios=[1, 1, 1])\n",
    "axes = [plt.subplot(gs[0]),plt.subplot(gs[1]),plt.subplot(gs[2])]\n",
    "plt.subplots_adjust(hspace = 0.5)\n",
    "axes[0].hist(phi, bins, normed=1, facecolor='green', alpha=0.75);\n",
    "axes[1].hist(phi2, bins, normed=1, facecolor='green', alpha=0.75);\n",
    "axes[2].hist(phi3, bins, normed=1, facecolor='green', alpha=0.75);\n",
    "axes[0].set_xlabel(r'$\\phi_1 = 2\\lambda_2 - \\lambda_1 - \\overline{\\omega}_2$')\n",
    "axes[1].set_xlabel(r'$\\phi_2 = 2\\lambda_2 - \\lambda_1 - \\overline{\\omega}_1$')\n",
    "axes[2].set_xlabel(r'$\\phi_3 = \\overline{\\omega}_2 - \\overline{\\omega}_1$')\n",
    "axes[0].set_title('Summed counts from %d systems, each simulated for %d years'%(Ndraws,tmax))\n",
    "axes[0].set_ylabel('counts')\n",
    "axes[1].set_ylabel('counts')\n",
    "axes[2].set_ylabel('counts')\n",
    "axes[0].set_xlim([0,2*np.pi])\n",
    "axes[1].set_xlim([0,2*np.pi])\n",
    "axes[2].set_xlim([0,2*np.pi])\n",
    "plt.savefig(filename+'_rescheck.png')"
   ]
  },
  {
   "cell_type": "code",
   "execution_count": null,
   "metadata": {
    "collapsed": true
   },
   "outputs": [],
   "source": []
  }
 ],
 "metadata": {
  "kernelspec": {
   "display_name": "Python 2",
   "language": "python",
   "name": "python2"
  },
  "language_info": {
   "codemirror_mode": {
    "name": "ipython",
    "version": 2
   },
   "file_extension": ".py",
   "mimetype": "text/x-python",
   "name": "python",
   "nbconvert_exporter": "python",
   "pygments_lexer": "ipython2",
   "version": "2.7.11"
  }
 },
 "nbformat": 4,
 "nbformat_minor": 1
}
