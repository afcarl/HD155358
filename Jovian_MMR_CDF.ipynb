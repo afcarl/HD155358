{
 "cells": [
  {
   "cell_type": "code",
   "execution_count": 1,
   "metadata": {
    "collapsed": true
   },
   "outputs": [],
   "source": [
    "import pandas as pd\n",
    "import numpy as np\n",
    "import matplotlib.pyplot as plt\n",
    "%matplotlib inline"
   ]
  },
  {
   "cell_type": "code",
   "execution_count": 2,
   "metadata": {
    "collapsed": false
   },
   "outputs": [
    {
     "data": {
      "text/html": [
       "<div>\n",
       "<table border=\"1\" class=\"dataframe\">\n",
       "  <thead>\n",
       "    <tr style=\"text-align: right;\">\n",
       "      <th></th>\n",
       "      <th>name</th>\n",
       "      <th>letter</th>\n",
       "      <th>method</th>\n",
       "      <th>Npl</th>\n",
       "      <th>P</th>\n",
       "      <th>Pup</th>\n",
       "      <th>Pdown</th>\n",
       "      <th>a</th>\n",
       "      <th>aup</th>\n",
       "      <th>adown</th>\n",
       "      <th>...</th>\n",
       "      <th>mdown</th>\n",
       "      <th>r</th>\n",
       "      <th>rup</th>\n",
       "      <th>rdown</th>\n",
       "      <th>Ms</th>\n",
       "      <th>Msup</th>\n",
       "      <th>Msdown</th>\n",
       "      <th>Rs</th>\n",
       "      <th>Rsup</th>\n",
       "      <th>Rsdown</th>\n",
       "    </tr>\n",
       "  </thead>\n",
       "  <tbody>\n",
       "    <tr>\n",
       "      <th>0</th>\n",
       "      <td>24 Sex</td>\n",
       "      <td>b</td>\n",
       "      <td>Radial Velocity</td>\n",
       "      <td>2</td>\n",
       "      <td>452.8</td>\n",
       "      <td>2.1</td>\n",
       "      <td>-4.5</td>\n",
       "      <td>1.333</td>\n",
       "      <td>0.004</td>\n",
       "      <td>-0.009</td>\n",
       "      <td>...</td>\n",
       "      <td>-0.380</td>\n",
       "      <td>NaN</td>\n",
       "      <td>NaN</td>\n",
       "      <td>NaN</td>\n",
       "      <td>1.54</td>\n",
       "      <td>0.08</td>\n",
       "      <td>-0.08</td>\n",
       "      <td>4.90</td>\n",
       "      <td>0.08</td>\n",
       "      <td>-0.08</td>\n",
       "    </tr>\n",
       "    <tr>\n",
       "      <th>1</th>\n",
       "      <td>24 Sex</td>\n",
       "      <td>c</td>\n",
       "      <td>Radial Velocity</td>\n",
       "      <td>2</td>\n",
       "      <td>883.0</td>\n",
       "      <td>32.4</td>\n",
       "      <td>-13.8</td>\n",
       "      <td>2.080</td>\n",
       "      <td>0.050</td>\n",
       "      <td>-0.020</td>\n",
       "      <td>...</td>\n",
       "      <td>-0.220</td>\n",
       "      <td>NaN</td>\n",
       "      <td>NaN</td>\n",
       "      <td>NaN</td>\n",
       "      <td>1.54</td>\n",
       "      <td>0.08</td>\n",
       "      <td>-0.08</td>\n",
       "      <td>4.90</td>\n",
       "      <td>0.08</td>\n",
       "      <td>-0.08</td>\n",
       "    </tr>\n",
       "    <tr>\n",
       "      <th>2</th>\n",
       "      <td>47 UMa</td>\n",
       "      <td>b</td>\n",
       "      <td>Radial Velocity</td>\n",
       "      <td>3</td>\n",
       "      <td>1078.0</td>\n",
       "      <td>2.0</td>\n",
       "      <td>-2.0</td>\n",
       "      <td>2.100</td>\n",
       "      <td>0.020</td>\n",
       "      <td>-0.020</td>\n",
       "      <td>...</td>\n",
       "      <td>-0.060</td>\n",
       "      <td>NaN</td>\n",
       "      <td>NaN</td>\n",
       "      <td>NaN</td>\n",
       "      <td>1.03</td>\n",
       "      <td>0.05</td>\n",
       "      <td>-0.05</td>\n",
       "      <td>1.23</td>\n",
       "      <td>NaN</td>\n",
       "      <td>NaN</td>\n",
       "    </tr>\n",
       "    <tr>\n",
       "      <th>3</th>\n",
       "      <td>47 UMa</td>\n",
       "      <td>c</td>\n",
       "      <td>Radial Velocity</td>\n",
       "      <td>3</td>\n",
       "      <td>2391.0</td>\n",
       "      <td>100.0</td>\n",
       "      <td>-87.0</td>\n",
       "      <td>3.600</td>\n",
       "      <td>0.100</td>\n",
       "      <td>-0.100</td>\n",
       "      <td>...</td>\n",
       "      <td>-0.073</td>\n",
       "      <td>NaN</td>\n",
       "      <td>NaN</td>\n",
       "      <td>NaN</td>\n",
       "      <td>1.03</td>\n",
       "      <td>0.05</td>\n",
       "      <td>-0.05</td>\n",
       "      <td>1.23</td>\n",
       "      <td>NaN</td>\n",
       "      <td>NaN</td>\n",
       "    </tr>\n",
       "    <tr>\n",
       "      <th>4</th>\n",
       "      <td>47 UMa</td>\n",
       "      <td>d</td>\n",
       "      <td>Radial Velocity</td>\n",
       "      <td>3</td>\n",
       "      <td>14002.0</td>\n",
       "      <td>4018.0</td>\n",
       "      <td>-5095.0</td>\n",
       "      <td>11.600</td>\n",
       "      <td>2.100</td>\n",
       "      <td>-2.900</td>\n",
       "      <td>...</td>\n",
       "      <td>-0.480</td>\n",
       "      <td>NaN</td>\n",
       "      <td>NaN</td>\n",
       "      <td>NaN</td>\n",
       "      <td>1.03</td>\n",
       "      <td>0.05</td>\n",
       "      <td>-0.05</td>\n",
       "      <td>1.23</td>\n",
       "      <td>NaN</td>\n",
       "      <td>NaN</td>\n",
       "    </tr>\n",
       "  </tbody>\n",
       "</table>\n",
       "<p>5 rows × 25 columns</p>\n",
       "</div>"
      ],
      "text/plain": [
       "     name letter           method  Npl        P     Pup   Pdown       a  \\\n",
       "0  24 Sex      b  Radial Velocity    2    452.8     2.1    -4.5   1.333   \n",
       "1  24 Sex      c  Radial Velocity    2    883.0    32.4   -13.8   2.080   \n",
       "2  47 UMa      b  Radial Velocity    3   1078.0     2.0    -2.0   2.100   \n",
       "3  47 UMa      c  Radial Velocity    3   2391.0   100.0   -87.0   3.600   \n",
       "4  47 UMa      d  Radial Velocity    3  14002.0  4018.0 -5095.0  11.600   \n",
       "\n",
       "     aup  adown   ...    mdown   r  rup  rdown    Ms  Msup  Msdown    Rs  \\\n",
       "0  0.004 -0.009   ...   -0.380 NaN  NaN    NaN  1.54  0.08   -0.08  4.90   \n",
       "1  0.050 -0.020   ...   -0.220 NaN  NaN    NaN  1.54  0.08   -0.08  4.90   \n",
       "2  0.020 -0.020   ...   -0.060 NaN  NaN    NaN  1.03  0.05   -0.05  1.23   \n",
       "3  0.100 -0.100   ...   -0.073 NaN  NaN    NaN  1.03  0.05   -0.05  1.23   \n",
       "4  2.100 -2.900   ...   -0.480 NaN  NaN    NaN  1.03  0.05   -0.05  1.23   \n",
       "\n",
       "   Rsup  Rsdown  \n",
       "0  0.08   -0.08  \n",
       "1  0.08   -0.08  \n",
       "2   NaN     NaN  \n",
       "3   NaN     NaN  \n",
       "4   NaN     NaN  \n",
       "\n",
       "[5 rows x 25 columns]"
      ]
     },
     "execution_count": 2,
     "metadata": {},
     "output_type": "execute_result"
    }
   ],
   "source": [
    "header = ['name', 'letter', 'method', 'Npl', 'P', 'Pup', 'Pdown', 'a', 'aup', 'adown', 'e', 'eup', 'edown', 'm', 'mup', 'mdown', 'r', 'rup', 'rdown', 'Ms', 'Msup', 'Msdown', 'Rs', 'Rsup', 'Rsdown']\n",
    "usecols = [1,2,3,4,5,6,7,9,10,11,13,14,15,17,18,19,22,23,24,31,32,33,36,37,38]\n",
    "data = pd.read_csv(\"planets.csv\",names=header, delimiter=',',usecols=usecols,skiprows=48)\n",
    "data.head()"
   ]
  },
  {
   "cell_type": "code",
   "execution_count": 72,
   "metadata": {
    "collapsed": false
   },
   "outputs": [],
   "source": [
    "min_mass = 0.3\n",
    "period_ratios = []\n",
    "\n",
    "systems = np.unique(data['name'])\n",
    "for s in systems:\n",
    "    sys = data.loc[data['name']==s, [\"name\",\"letter\",\"Npl\",\"P\",\"m\",\"Ms\"]]\n",
    "    #if np.any(sys[\"m\"] > min_mass) and np.any(sys[\"P\"] < 200):\n",
    "    if len(np.where((sys[\"m\"]>min_mass) & (sys[\"P\"]<200))[0]) > 0:  #Jovian planet inside of 200 days\n",
    "        P = np.sort(sys[\"P\"].values)\n",
    "        P_ratio = P[1:] / P[0:-1]\n",
    "        for p in P_ratio:\n",
    "            period_ratios.append(p)\n",
    "\n",
    "period_ratios = np.sort(np.asarray(period_ratios))\n",
    "period_ratios = period_ratios[period_ratios < 5]"
   ]
  },
  {
   "cell_type": "code",
   "execution_count": 76,
   "metadata": {
    "collapsed": false
   },
   "outputs": [
    {
     "name": "stdout",
     "output_type": "stream",
     "text": [
      "Out of 63 total systems, 0.29 percent are 0.04 wide of MMR\n"
     ]
    },
    {
     "data": {
      "image/png": "[encoded data removed]",
      "text/plain": [
       "<matplotlib.figure.Figure at 0x107cdd990>"
      ]
     },
     "metadata": {},
     "output_type": "display_data"
    }
   ],
   "source": [
    "MMR = [2,1.5]\n",
    "N_MMR = 0\n",
    "N = float(len(period_ratios))\n",
    "thresh = 0.04\n",
    "for m in MMR:\n",
    "    plt.plot([m,m],[0,1],'k--')\n",
    "    N_MMR += len(period_ratios[(np.abs(period_ratios - m) < thresh) & (period_ratios > m)])\n",
    "\n",
    "plt.plot(period_ratios, np.arange(N)/N, lw=2)\n",
    "plt.xlabel(\"Period Ratio\")\n",
    "plt.ylabel(\"Cumulative Distribution\")\n",
    "plt.savefig(\"Jovian_MMR_CDF.pdf\")\n",
    "print \"Out of %d total systems, %.2f percent are %.2f wide of MMR\"%(N,N_MMR/N, thresh)"
   ]
  },
  {
   "cell_type": "code",
   "execution_count": null,
   "metadata": {
    "collapsed": true
   },
   "outputs": [],
   "source": []
  }
 ],
 "metadata": {
  "kernelspec": {
   "display_name": "Python 2",
   "language": "python",
   "name": "python2"
  },
  "language_info": {
   "codemirror_mode": {
    "name": "ipython",
    "version": 2
   },
   "file_extension": ".py",
   "mimetype": "text/x-python",
   "name": "python",
   "nbconvert_exporter": "python",
   "pygments_lexer": "ipython2",
   "version": "2.7.11"
  }
 },
 "nbformat": 4,
 "nbformat_minor": 2
}
